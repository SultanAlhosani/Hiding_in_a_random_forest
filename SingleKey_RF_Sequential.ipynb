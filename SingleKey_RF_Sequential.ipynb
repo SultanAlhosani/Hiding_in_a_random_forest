{
 "cells": [
  {
   "cell_type": "code",
   "execution_count": 40,
   "id": "4d703254",
   "metadata": {},
   "outputs": [],
   "source": [
    "import time\n",
    "import numpy as np\n",
    "from collections import Counter\n",
    "from sklearn.ensemble import RandomForestClassifier\n",
    "from sklearn.model_selection import train_test_split\n",
    "from sklearn.metrics import accuracy_score\n",
    "from sklearn.datasets import fetch_openml\n",
    "from pyope.ope import OPE, ValueRange\n",
    "from cryptography.hazmat.primitives.ciphers import Cipher, algorithms, modes\n",
    "from cryptography.hazmat.backends import default_backend\n",
    "import os\n",
    "from tqdm import tqdm\n",
    "import matplotlib.pyplot as plt\n",
    "\n"
   ]
  },
  {
   "cell_type": "markdown",
   "id": "cc3461fe",
   "metadata": {},
   "source": [
    "Loading Dataset"
   ]
  },
  {
   "cell_type": "code",
   "execution_count": 41,
   "id": "c9a23215",
   "metadata": {},
   "outputs": [
    {
     "name": "stdout",
     "output_type": "stream",
     "text": [
      "Dataset Loading Time: 4.3745 seconds\n"
     ]
    }
   ],
   "source": [
    "start_total_time = time.perf_counter()  # Start total execution time\n",
    "\n",
    "#Load Dataset Used for Testing and Training\n",
    "start_dataset_load_time = time.perf_counter()\n",
    "\n",
    "mnist = fetch_openml(\"mnist_784\", version=1, as_frame=False)\n",
    "X, y = mnist.data.astype(\"float32\"), mnist.target.astype(\"int\")\n",
    "\n",
    "\n",
    "\n",
    "end_dataset_load_time = time.perf_counter()\n",
    "\n",
    "dataset_load_time = end_dataset_load_time - start_dataset_load_time\n",
    "print(f\"Dataset Loading Time: {dataset_load_time:.4f} seconds\")\n"
   ]
  },
  {
   "cell_type": "markdown",
   "id": "9b9a4786",
   "metadata": {},
   "source": [
    "Scaling Dataset"
   ]
  },
  {
   "cell_type": "code",
   "execution_count": 42,
   "id": "48ba79cc",
   "metadata": {},
   "outputs": [],
   "source": [
    "# Normalize pixel values to [0, 1]\n",
    "X = X / 255.0\n",
    "\n",
    "if X.max() <= 1:\n",
    "    # Rescale dataset from original range to [0, 255]\n",
    "    X = (X - X.min()) / (X.max() - X.min()) * 255\n",
    "    X = (X * 10).astype(int)  # Scale to 0–2550\n",
    "else:\n",
    "    X = X.astype(int)"
   ]
  },
  {
   "cell_type": "markdown",
   "id": "e932016a",
   "metadata": {},
   "source": [
    "Dataset Splitting"
   ]
  },
  {
   "cell_type": "code",
   "execution_count": 43,
   "id": "69c475c3",
   "metadata": {},
   "outputs": [
    {
     "name": "stdout",
     "output_type": "stream",
     "text": [
      "Number of training samples: 56000\n",
      "Number of testing samples: 100\n"
     ]
    }
   ],
   "source": [
    "# ✅ Split dataset\n",
    "X_train, X_test, y_train, y_test = train_test_split(X, y, test_size=0.2, random_state=42)\n",
    "\n",
    "#Change the number of samples to be encrypted for testing purposes (can be removed )\n",
    "num_samples_training = len(X_train)\n",
    "num_samples_testing = 100\n",
    "\n",
    "X_test = X_test[:num_samples_testing]\n",
    "X_train = X_train[:num_samples_training]\n",
    "\n",
    "print(f\"Number of training samples: {num_samples_training}\")\n",
    "print(f\"Number of testing samples: {num_samples_testing}\")"
   ]
  },
  {
   "cell_type": "markdown",
   "id": "c5e73498",
   "metadata": {},
   "source": [
    "OPE Initialization and Setup"
   ]
  },
  {
   "cell_type": "code",
   "execution_count": 44,
   "id": "959ef8e9",
   "metadata": {},
   "outputs": [],
   "source": [
    "ope_key = b'some_secure_key'\n",
    "scale_factor = 10\n",
    "max_pixel_value = 255 * scale_factor  \n",
    "\n",
    "ope = OPE(ope_key, ValueRange(0, max_pixel_value), ValueRange(0, 2**32))\n",
    "\n",
    "#Function to encrypt the dataset using OPE\n",
    "def encrypt_dataset_with_ope(X):\n",
    "    return np.array([[ope.encrypt(int(val)) for val in row] for row in tqdm(X, desc=\"Encrypting Dataset\")])\n"
   ]
  },
  {
   "cell_type": "markdown",
   "id": "e3ec1b8d",
   "metadata": {},
   "source": [
    "Testing Data Encryption using OPE"
   ]
  },
  {
   "cell_type": "code",
   "execution_count": 45,
   "id": "19ccf07e",
   "metadata": {},
   "outputs": [
    {
     "name": "stdout",
     "output_type": "stream",
     "text": [
      "Encrypting Test Data...\n",
      "\n"
     ]
    },
    {
     "name": "stderr",
     "output_type": "stream",
     "text": [
      "Encrypting Dataset: 100%|██████████| 100/100 [01:23<00:00,  1.20it/s]"
     ]
    },
    {
     "name": "stdout",
     "output_type": "stream",
     "text": [
      "Done encrypting Test Data!\n",
      "\n",
      "Dataset Encryption Time: 83.0580 seconds\n"
     ]
    },
    {
     "name": "stderr",
     "output_type": "stream",
     "text": [
      "\n"
     ]
    }
   ],
   "source": [
    "# Encrypt Test Data Using OPE\n",
    "start_test_data_encryption_time = time.perf_counter()\n",
    "\n",
    "print(\"Encrypting Test Data...\\n\")\n",
    "X_test_encrypted = encrypt_dataset_with_ope(X_test)\n",
    "print(\"Done encrypting Test Data!\\n\")\n",
    "\n",
    "end_test_data_encryption_time = time.perf_counter()\n",
    "test_data_encryption_time = end_test_data_encryption_time - start_test_data_encryption_time\n",
    "print(f\"Dataset Encryption Time: {test_data_encryption_time:.4f} seconds\")"
   ]
  },
  {
   "cell_type": "markdown",
   "id": "6a4f41bb",
   "metadata": {},
   "source": [
    "Random Forest Initialization & Training"
   ]
  },
  {
   "cell_type": "code",
   "execution_count": 46,
   "id": "97364f7c",
   "metadata": {},
   "outputs": [
    {
     "name": "stdout",
     "output_type": "stream",
     "text": [
      "Random Forest Training Time: 3.4452 seconds\n"
     ]
    }
   ],
   "source": [
    "#Number of Decision Trees in Random Forest\n",
    "num_estimators = 10\n",
    "\n",
    "start_training_time = time.perf_counter()\n",
    "\n",
    "clf_ope = RandomForestClassifier(n_estimators=num_estimators, max_depth=20, random_state=42, min_samples_split=2)\n",
    "clf_ope.fit(X_train, y_train)\n",
    "\n",
    "end_training_time = time.perf_counter()\n",
    "training_time = end_training_time - start_training_time\n",
    "\n",
    "print(f\"Random Forest Training Time: {training_time:.4f} seconds\")"
   ]
  },
  {
   "cell_type": "markdown",
   "id": "46fc789f",
   "metadata": {},
   "source": [
    "AES Function Definition and Label Encryption (Using ECB as the mode of operation)"
   ]
  },
  {
   "cell_type": "code",
   "execution_count": 47,
   "id": "179e51a8",
   "metadata": {},
   "outputs": [
    {
     "name": "stderr",
     "output_type": "stream",
     "text": [
      "Encrypting Labels: 100%|██████████| 10/10 [00:00<?, ?it/s]"
     ]
    },
    {
     "name": "stdout",
     "output_type": "stream",
     "text": [
      "Number of Encrypted Labels: 10\n",
      "AES Label Encryption Time: 0.0059 seconds\n"
     ]
    },
    {
     "name": "stderr",
     "output_type": "stream",
     "text": [
      "\n"
     ]
    }
   ],
   "source": [
    "\n",
    "aes_key = os.urandom(32)  # Use this key for encryption/decryption\n",
    "\n",
    "# ✅ AES Encrypt Function\n",
    "def aes_encrypt(data, key):\n",
    "    cipher = Cipher(algorithms.AES(key), modes.ECB(), backend=default_backend())\n",
    "    encryptor = cipher.encryptor()\n",
    "    padded_data = data.ljust(16)\n",
    "    ciphertext = encryptor.update(padded_data.encode()) + encryptor.finalize()\n",
    "    return ciphertext\n",
    "\n",
    "# ✅ AES Decrypt Function\n",
    "def aes_decrypt(ciphertext, key):\n",
    "    cipher = Cipher(algorithms.AES(key), modes.ECB(), backend=default_backend())\n",
    "    decryptor = cipher.decryptor()\n",
    "    return decryptor.update(ciphertext).decode().strip()\n",
    "\n",
    "start_label_encryption_time = time.perf_counter()\n",
    "\n",
    "encrypted_labels = {\n",
    "    label: aes_encrypt(str(label), aes_key)\n",
    "    for label in tqdm(np.unique(y_train), desc=\"Encrypting Labels\")\n",
    "}\n",
    "\n",
    "end_label_encryption_time = time.perf_counter()\n",
    "label_encryption_time = end_label_encryption_time - start_label_encryption_time\n",
    "\n",
    "print(f\"Number of Encrypted Labels: {len(encrypted_labels)}\")\n",
    "print(f\"AES Label Encryption Time: {label_encryption_time:.4f} seconds\")"
   ]
  },
  {
   "cell_type": "markdown",
   "id": "3b0b5b9b",
   "metadata": {},
   "source": [
    "Thresholds Encryption"
   ]
  },
  {
   "cell_type": "code",
   "execution_count": 48,
   "id": "3ff11817",
   "metadata": {},
   "outputs": [
    {
     "name": "stderr",
     "output_type": "stream",
     "text": [
      "Encrypting Thresholds Per Tree: 100%|██████████| 10/10 [00:56<00:00,  5.68s/it]"
     ]
    },
    {
     "name": "stdout",
     "output_type": "stream",
     "text": [
      "Threshold Encryption Time: 56.8318 seconds\n"
     ]
    },
    {
     "name": "stderr",
     "output_type": "stream",
     "text": [
      "\n"
     ]
    }
   ],
   "source": [
    "start_threshold_encryption_time = time.perf_counter()\n",
    "\n",
    "encrypted_thresholds = []\n",
    "\n",
    "for tree in tqdm(clf_ope.estimators_, desc=\"Encrypting Thresholds Per Tree\"):\n",
    "    tree_thresholds = []\n",
    "    for th in tree.tree_.threshold:\n",
    "        if th != -2:\n",
    "            tree_thresholds.append(ope.encrypt(int(th)))\n",
    "        else:\n",
    "            tree_thresholds.append(None)\n",
    "    encrypted_thresholds.append(tree_thresholds)\n",
    "\n",
    "end_threshold_encryption_time = time.perf_counter()\n",
    "threshold_encryption_time = end_threshold_encryption_time - start_threshold_encryption_time\n",
    "\n",
    "print(f\"Threshold Encryption Time: {threshold_encryption_time:.4f} seconds\")"
   ]
  },
  {
   "cell_type": "markdown",
   "id": "2c860a40",
   "metadata": {},
   "source": [
    "Leaf Node Encryption"
   ]
  },
  {
   "cell_type": "code",
   "execution_count": 49,
   "id": "f4080db7",
   "metadata": {},
   "outputs": [
    {
     "name": "stdout",
     "output_type": "stream",
     "text": [
      "Leaf Node Encryption Time: 0.9083 seconds\n"
     ]
    }
   ],
   "source": [
    "# Encrypt Leaf Node Labels Per Tree Using AES\n",
    "\n",
    "start_leaf_encryption_time = time.perf_counter()\n",
    "\n",
    "encrypted_leaf_values = []\n",
    "\n",
    "for i, tree in enumerate(clf_ope.estimators_):\n",
    "    tree_leaf_map = {}\n",
    "    for node in range(tree.tree_.node_count):\n",
    "        if tree.tree_.feature[node] == -2:  # It's a leaf\n",
    "            label = str(tree.tree_.value[node].argmax())\n",
    "            tree_leaf_map[node] = aes_encrypt(label, aes_key)\n",
    "    encrypted_leaf_values.append(tree_leaf_map)\n",
    "\n",
    "end_leaf_encryption_time = time.perf_counter()\n",
    "leaf_encryption_time = end_leaf_encryption_time - start_leaf_encryption_time\n",
    "\n",
    "print(f\"Leaf Node Encryption Time: {leaf_encryption_time:.4f} seconds\")\n"
   ]
  },
  {
   "cell_type": "markdown",
   "id": "b011c9df",
   "metadata": {},
   "source": [
    "Dataset Encryption Functions"
   ]
  },
  {
   "cell_type": "code",
   "execution_count": 50,
   "id": "35dfe932",
   "metadata": {},
   "outputs": [],
   "source": [
    "# Function to Encrypt an Image with OPE\n",
    "def encrypt_image(image, ope_key):\n",
    "    encrypted_image = [ope_key.encrypt(int(pixel)) for pixel in image]\n",
    "    return encrypted_image\n",
    "\n",
    "# Cleaned Function to Encrypt the Entire Dataset\n",
    "def encrypt_dataset(X, ope_key):\n",
    "    encrypted_X = []\n",
    "    for idx, image in enumerate(X, start=1):\n",
    "        start_time = time.time()\n",
    "        encrypted_image = encrypt_image(image, ope_key)  # No scaling needed\n",
    "        encryption_time = time.time() - start_time\n",
    "        print(f\"{idx}: Image Encryption Time: {encryption_time:.4f} sec\")\n",
    "        encrypted_X.append(encrypted_image)\n",
    "\n",
    "    print(f\"Number of encrypted images: {len(encrypted_X)}\")\n",
    "    return np.array(encrypted_X)"
   ]
  },
  {
   "cell_type": "code",
   "execution_count": 51,
   "id": "5c619683",
   "metadata": {},
   "outputs": [],
   "source": [
    "def secure_classify(model, encrypted_X, encrypted_thresholds, encrypted_leaf_values, aes_key):\n",
    "    votes = []\n",
    "\n",
    "    for tree_idx, tree in enumerate(model.estimators_):\n",
    "        node = 0\n",
    "        tree_thresholds = encrypted_thresholds[tree_idx]\n",
    "\n",
    "        while tree.tree_.feature[node] != -2:\n",
    "            feature_idx = tree.tree_.feature[node]\n",
    "            encrypted_threshold = tree_thresholds[node]\n",
    "\n",
    "            if encrypted_X[feature_idx] < encrypted_threshold:\n",
    "                node = tree.tree_.children_left[node]\n",
    "            else:\n",
    "                node = tree.tree_.children_right[node]\n",
    "                \n",
    "        encrypted_value = encrypted_leaf_values[tree_idx][node]\n",
    "        decrypted_value = aes_decrypt(encrypted_value, aes_key)\n",
    "        votes.append(int(decrypted_value))\n",
    "\n",
    "    return Counter(votes).most_common(1)[0][0]\n"
   ]
  },
  {
   "cell_type": "code",
   "execution_count": 52,
   "id": "fd7c0458",
   "metadata": {},
   "outputs": [],
   "source": [
    "# ✅ Function to Perform Secure Classification on All Test Images\n",
    "def secure_classify_dataset(model, X_encrypted, encrypted_thresholds, encrypted_leaf_values, aes_key):\n",
    "    return np.array([secure_classify(model, encrypted_X, encrypted_thresholds, encrypted_leaf_values, aes_key) for encrypted_X in X_encrypted])\n"
   ]
  },
  {
   "cell_type": "code",
   "execution_count": 53,
   "id": "ec8cb144",
   "metadata": {},
   "outputs": [
    {
     "name": "stdout",
     "output_type": "stream",
     "text": [
      "Performing Secure Classification...\n",
      "Secure Classification Time: 0.0526 seconds\n"
     ]
    }
   ],
   "source": [
    "# ✅ Measure time taken for classification\n",
    "start_time = time.time()\n",
    "print(\"Performing Secure Classification...\")\n",
    "y_pred_encrypted = secure_classify_dataset(clf_ope, X_test_encrypted, encrypted_thresholds, encrypted_leaf_values, aes_key)\n",
    "classification_time = time.time() - start_time\n",
    "print(f\"Secure Classification Time: {classification_time:.4f} seconds\")\n"
   ]
  },
  {
   "cell_type": "code",
   "execution_count": 54,
   "id": "99ba0614",
   "metadata": {},
   "outputs": [
    {
     "name": "stdout",
     "output_type": "stream",
     "text": [
      "Secure Random Forest Accuracy on Encrypted Dataset: 0.9600\n"
     ]
    }
   ],
   "source": [
    "# ✅ Compute Accuracy of Secure Inference\n",
    "secure_accuracy = accuracy_score(y_test[:num_samples_testing], y_pred_encrypted)\n",
    "\n",
    "# ✅ Print Secure Classification Results\n",
    "print(f\"Secure Random Forest Accuracy on Encrypted Dataset: {secure_accuracy:.4f}\")"
   ]
  },
  {
   "cell_type": "code",
   "execution_count": null,
   "id": "38839686",
   "metadata": {},
   "outputs": [
    {
     "name": "stdout",
     "output_type": "stream",
     "text": [
      "\n",
      "===== Execution Time Summary =====\n",
      "Total Execution Time: 150.0566 seconds\n",
      "Dataset Load Time: 4.3745 seconds (2.92%)\n",
      "Test Data Encryption Time: 83.0580 seconds (12463.41%)\n",
      "Random Forest Training Time: 3.4452 seconds (516.98%)\n",
      "Threshold Encryption Time: 56.8318 seconds (8527.99%)\n",
      "Secure Classification Time: 0.0526 seconds (7.90%)\n",
      "\n",
      "===== Secure Classification Results =====\n",
      "Secure Random Forest Accuracy on Encrypted MNIST: 0.9600\n",
      "Number of Decision Trees (num_estimators): 10\n",
      "Number of Images Used for Training: 56000\n",
      "Number of Images Used for Testing: 100\n",
      "\n",
      "===== Throughput =====\n",
      "Total Throughput Time: 83.1107 seconds\n",
      "Throughput: 1.20 samples/second\n",
      "Percentage of Test Data Encryption Time vs Throughput: 99.94%\n",
      "Percentage of Classification Time vs Throughput: 0.06%\n"
     ]
    }
   ],
   "source": [
    "# Ensure all timer variables are defined to avoid NameError\n",
    "if 'start_threshold_encryption_time' not in globals():\n",
    "    start_threshold_encryption_time = end_threshold_encryption_time = time.perf_counter()\n",
    "\n",
    "if 'start_label_encryption_time' not in globals():\n",
    "    start_label_encryption_time = end_label_encryption_time = time.perf_counter()\n",
    "\n",
    "if 'start_dataset_encryption_time' not in globals():\n",
    "    start_dataset_encryption_time = end_dataset_encryption_time = time.perf_counter()\n",
    "\n",
    "if 'start_rf_training_time' not in globals():\n",
    "    start_rf_training_time = end_rf_training_time = time.perf_counter()\n",
    "\n",
    "end_total_time = time.perf_counter()  # End total execution time\n",
    "\n",
    "total_time = end_total_time - start_total_time\n",
    "dataset_encryption_time = end_dataset_encryption_time - start_dataset_encryption_time\n",
    "rf_training_time = end_rf_training_time - start_rf_training_time\n",
    "threshold_encryption_time = end_threshold_encryption_time - start_threshold_encryption_time\n",
    "\n",
    "\n",
    "total_time_percentage = 100 / total_time\n",
    "dataset_load_percentage = (dataset_load_time * total_time_percentage)\n",
    "dataset_encryption_percentage = (dataset_encryption_time * total_time_percentage) \n",
    "rf_training_percentage = (training_time * total_time) \n",
    "threshold_encryption_percentage = (threshold_encryption_time * total_time) \n",
    "classification_percentage = (classification_time * total_time)\n",
    "test_data_encryption_percentage = (test_data_encryption_time * total_time)\n",
    "\n",
    "# Combine encryption and classification times\n",
    "total_throughput_time = test_data_encryption_time + classification_time\n",
    "\n",
    "\n",
    "\n",
    "\n",
    "\n",
    "print(\"\\n===== Execution Time Summary =====\")\n",
    "print(f\"Total Execution Time: {total_time:.4f} seconds\")\n",
    "print(f\"Dataset Load Time: {dataset_load_time:.4f} seconds ({dataset_load_percentage:.2f}%)\")\n",
    "print(f\"Test Data Encryption Time: {test_data_encryption_time:.4f} seconds ({test_data_encryption_percentage:.2f}%)\")\n",
    "print(f\"Random Forest Training Time: {training_time:.4f} seconds ({rf_training_percentage:.2f}%)\")\n",
    "print(f\"Threshold Encryption Time: {threshold_encryption_time:.4f} seconds ({threshold_encryption_percentage:.2f}%)\")\n",
    "print(f\"Secure Classification Time: {classification_time:.4f} seconds ({classification_percentage:.2f}%)\")\n",
    "\n",
    "print(\"\\n===== Secure Classification Results =====\")\n",
    "print(f\"Secure Random Forest Accuracy on Encrypted MNIST: {secure_accuracy:.4f}\")\n",
    "print(f\"Number of Decision Trees (num_estimators): {num_estimators}\")\n",
    "print(f\"Number of Images Used for Training: {len(X_train)}\")\n",
    "print(f\"Number of Images Used for Testing: {len(X_test)}\")\n",
    "\n",
    "encryption_percentage_throughput = (test_data_encryption_time / total_throughput_time) * 100\n",
    "classification_percentage_througput = (classification_time / total_throughput_time) * 100\n",
    "\n",
    "print(\"\\n===== Throughput =====\")\n",
    "throughput = len(X_test) / total_throughput_time\n",
    "print(f\"Total Throughput Time: {total_throughput_time:.4f} seconds\")\n",
    "print(f\"Throughput: {throughput:.2f} samples/second\")\n",
    "print(f\"Percentage of Test Data Encryption Time vs Throughput: {encryption_vs_classification_percentage:.2f}%\")\n",
    "print(f\"Percentage of Classification Time vs Throughput: {classification_vs_encryption_percentage:.2f}%\")\n"
   ]
  }
 ],
 "metadata": {
  "kernelspec": {
   "display_name": "Python 3",
   "language": "python",
   "name": "python3"
  },
  "language_info": {
   "codemirror_mode": {
    "name": "ipython",
    "version": 3
   },
   "file_extension": ".py",
   "mimetype": "text/x-python",
   "name": "python",
   "nbconvert_exporter": "python",
   "pygments_lexer": "ipython3",
   "version": "3.11.9"
  }
 },
 "nbformat": 4,
 "nbformat_minor": 5
}
