{
 "cells": [
  {
   "cell_type": "code",
   "execution_count": 96,
   "metadata": {
    "id": "Nufom7uIwVHg"
   },
   "outputs": [],
   "source": [
    "import time\n",
    "import numpy as np\n",
    "from collections import Counter\n",
    "from sklearn.ensemble import RandomForestClassifier\n",
    "from sklearn.model_selection import train_test_split\n",
    "from sklearn.metrics import accuracy_score\n",
    "from sklearn.datasets import fetch_openml\n",
    "from pyope.ope import OPE, ValueRange\n",
    "from cryptography.hazmat.primitives.ciphers import Cipher, algorithms, modes\n",
    "from cryptography.hazmat.backends import default_backend\n",
    "import os"
   ]
  },
  {
   "cell_type": "code",
   "execution_count": 97,
   "metadata": {
    "id": "rqpWk1vqwQJP"
   },
   "outputs": [],
   "source": [
    "start_total_time = time.perf_counter()  # Start total execution time\n",
    "# ✅ AES Encryption Setup\n",
    "aes_key = os.urandom(32)  # Use this key for encryption/decryption\n",
    "\n",
    "# ✅ AES Encrypt Function (Fast Mode - ECB)\n",
    "def aes_encrypt_fast(data, key):\n",
    "    cipher = Cipher(algorithms.AES(key), modes.ECB(), backend=default_backend())\n",
    "    encryptor = cipher.encryptor()\n",
    "    padded_data = data.ljust(16)\n",
    "    ciphertext = encryptor.update(padded_data.encode()) + encryptor.finalize()\n",
    "    return ciphertext\n",
    "\n",
    "# ✅ AES Decrypt Function (Fast Mode - ECB)\n",
    "def aes_decrypt_fast(ciphertext, key):\n",
    "    cipher = Cipher(algorithms.AES(key), modes.ECB(), backend=default_backend())\n",
    "    decryptor = cipher.decryptor()\n",
    "    return decryptor.update(ciphertext).decode().strip()"
   ]
  },
  {
   "cell_type": "code",
   "execution_count": 98,
   "metadata": {
    "id": "DgT_L9KOwZoo"
   },
   "outputs": [
    {
     "name": "stdout",
     "output_type": "stream",
     "text": [
      "MNIST Load Time: 7.7987 seconds\n"
     ]
    }
   ],
   "source": [
    "# ✅ Load MNIST dataset\n",
    "start_mnist_load_time = time.perf_counter()  # Start MNIST load time\n",
    "mnist = fetch_openml(\"mnist_784\", version=1, as_frame=False)\n",
    "X, y = mnist.data, mnist.target.astype(int)\n",
    "end_mnist_load_time = time.perf_counter()  # End MNIST load time\n",
    "mnist_load_time = end_mnist_load_time - start_mnist_load_time\n",
    "print(f\"MNIST Load Time: {mnist_load_time:.4f} seconds\")\n"
   ]
  },
  {
   "cell_type": "code",
   "execution_count": 99,
   "metadata": {
    "id": "0Esz4GuZwcUJ"
   },
   "outputs": [
    {
     "name": "stdout",
     "output_type": "stream",
     "text": [
      "OPE Encryption Time: 403.5344 seconds\n",
      "OPE Encryption Done!\n",
      "X_train_encrypted shape: (100, 784)\n",
      "X_test_encrypted shape: (100, 784)\n"
     ]
    }
   ],
   "source": [
    "# ✅ Split dataset\n",
    "X_train, X_test, y_train, y_test = train_test_split(X, y, test_size=0.2, random_state=42)\n",
    "# Define OPE Encryption Scheme\n",
    "ope_key = b'some_secure_key'\n",
    "ope = OPE(ope_key, ValueRange(0, 255), ValueRange(0, 2**32))\n",
    "\n",
    "def encrypt_dataset_with_ope(X):\n",
    "    \"\"\"Encrypt dataset using OPE for each feature.\"\"\"\n",
    "    return np.array([[ope.encrypt(int(val)) for val in sample] for sample in X])\n",
    "\n",
    "num_samples = 100\n",
    "\n",
    "# ✅ Encrypt Training & Test Data Using OPE\n",
    "start_ope_encryption_time = time.perf_counter()  # Start OPE encryption time\n",
    "X_train_encrypted = encrypt_dataset_with_ope(X_train[:num_samples])\n",
    "X_test_encrypted = encrypt_dataset_with_ope(X_test[:num_samples])\n",
    "end_ope_encryption_time = time.perf_counter()  # End OPE encryption time\n",
    "ope_encryption_time = end_ope_encryption_time - start_ope_encryption_time\n",
    "print(f\"OPE Encryption Time: {ope_encryption_time:.4f} seconds\")\n",
    "\n",
    "print(\"OPE Encryption Done!\")\n",
    "print(\"X_train_encrypted shape:\", X_train_encrypted.shape)\n",
    "print(\"X_test_encrypted shape:\", X_test_encrypted.shape)\n"
   ]
  },
  {
   "cell_type": "code",
   "execution_count": 100,
   "metadata": {
    "id": "6rb2jlPxwfZH"
   },
   "outputs": [],
   "source": [
    "# ✅ Normalize and Clip pixel values (Ensure they are integers for OPE)\n",
    "scale_factor = 255  # Convert [0,1] range to [0,255]\n",
    "X_train_scaled = np.clip((X_train * scale_factor), 0, 255).astype(int)\n",
    "X_test_scaled = np.clip((X_test * scale_factor), 0, 255).astype(int)"
   ]
  },
  {
   "cell_type": "code",
   "execution_count": 101,
   "metadata": {
    "colab": {
     "base_uri": "https://localhost:8080/",
     "height": 80
    },
    "id": "swYxFETGwgyq",
    "outputId": "720d7719-65e7-4d17-d825-d77fbed20965"
   },
   "outputs": [
    {
     "name": "stdout",
     "output_type": "stream",
     "text": [
      "Secure Random Forest Accuracy (OPE Encrypted Data): 0.7500\n"
     ]
    }
   ],
   "source": [
    "\n",
    "num_estimators = 100\n",
    "\n",
    "# ✅ Train RF Model on OPE-Encrypted Data\n",
    "clf_ope = RandomForestClassifier(n_estimators=num_estimators, random_state=42)\n",
    "clf_ope.fit(X_train_encrypted[:num_samples], y_train[:num_samples])  # Train on encrypted dataset\n",
    "\n",
    "# ✅ Make Predictions on Encrypted Test Set\n",
    "y_pred_encrypted = clf_ope.predict(X_test_encrypted)\n",
    "\n",
    "# ✅ Compute Accuracy\n",
    "secure_accuracy = accuracy_score(y_test[:num_samples], y_pred_encrypted)\n",
    "print(f\"Secure Random Forest Accuracy (OPE Encrypted Data): {secure_accuracy:.4f}\")\n"
   ]
  },
  {
   "cell_type": "code",
   "execution_count": 102,
   "metadata": {
    "id": "36SAnQ7PwlkQ"
   },
   "outputs": [],
   "source": [
    "# ✅ Encrypt Labels using Faster AES-ECB\n",
    "encrypted_labels = {label: aes_encrypt_fast(str(label), aes_key) for label in np.unique(y_train)}"
   ]
  },
  {
   "cell_type": "code",
   "execution_count": 103,
   "metadata": {
    "id": "Flawe0qAwo45"
   },
   "outputs": [],
   "source": [
    "# ✅ Extract & Encrypt Thresholds using OPE\n",
    "thresholds = []\n",
    "for tree in clf_ope.estimators_:\n",
    "    tree_thresholds = tree.tree_.threshold\n",
    "    valid_thresholds = tree_thresholds[tree_thresholds != -2]\n",
    "    thresholds.extend(valid_thresholds)\n",
    "\n",
    "thresholds = np.array(thresholds)\n",
    "scale_factor = 1e6"
   ]
  },
  {
   "cell_type": "code",
   "execution_count": 104,
   "metadata": {
    "id": "CuSv8ZBxwrYy"
   },
   "outputs": [],
   "source": [
    "# ✅ Compute min/max for scaled pixel values\n",
    "scaled_pixels = np.clip(np.nan_to_num(X_train * scale_factor, nan=0, posinf=scale_factor, neginf=0).astype(int), -1e9, 1e9)\n",
    "scaled_thresholds = np.clip(np.nan_to_num(thresholds * scale_factor, nan=0, posinf=scale_factor, neginf=0).astype(int), -1e9, 1e9)\n",
    "\n",
    "min_value = int(min(scaled_pixels.min(), scaled_thresholds.min()) * 0.99)\n",
    "max_value = int(max(scaled_pixels.max(), scaled_thresholds.max()) * 1.01)"
   ]
  },
  {
   "cell_type": "code",
   "execution_count": 105,
   "metadata": {
    "id": "blICKn8_wrs7"
   },
   "outputs": [],
   "source": [
    "# ✅ Define OPE Ranges\n",
    "DEFAULT_OUT_RANGE_START, DEFAULT_OUT_RANGE_END = 0, 2**31 - 1\n",
    "in_range = ValueRange(min_value, max_value)\n",
    "out_range = ValueRange(DEFAULT_OUT_RANGE_START, DEFAULT_OUT_RANGE_END)"
   ]
  },
  {
   "cell_type": "code",
   "execution_count": 106,
   "metadata": {
    "id": "HOfyaU2twvfi"
   },
   "outputs": [],
   "source": [
    "# ✅ Initialize OPE for thresholds and features\n",
    "ope_key = OPE(b'some_secure_key', in_range, out_range)"
   ]
  },
  {
   "cell_type": "code",
   "execution_count": 107,
   "metadata": {
    "id": "MnsdKfxtwxbC"
   },
   "outputs": [],
   "source": [
    "# ✅ Encrypt Thresholds with OPE\n",
    "start_threshold_encryption_time = time.perf_counter()  # Start threshold encryption time\n",
    "encrypted_thresholds = np.array([ope_key.encrypt(int(th)) for th in scaled_thresholds])\n",
    "end_threshold_encryption_time = time.perf_counter()  # End threshold encryption time"
   ]
  },
  {
   "cell_type": "code",
   "execution_count": 108,
   "metadata": {
    "id": "GagdUU2dwy9b"
   },
   "outputs": [],
   "source": [
    "# ✅ Encrypt Decision Tree Leaf Values using AES-ECB\n",
    "encrypted_leaf_values = {\n",
    "    node: aes_encrypt_fast(str(tree.tree_.value[node].argmax()), aes_key)\n",
    "    for tree in clf_ope.estimators_\n",
    "    for node in range(tree.tree_.node_count) if tree.tree_.feature[node] == -2\n",
    "}"
   ]
  },
  {
   "cell_type": "code",
   "execution_count": 109,
   "metadata": {
    "id": "MADHZ3Lnw0JM"
   },
   "outputs": [],
   "source": [
    "# ✅ Optimized Function to Encrypt an Image with OPE\n",
    "def encrypt_image(image, ope_key, scale_factor=1e6):\n",
    "    \"\"\"Encrypt an image using OPE, ensuring valid integer input.\"\"\"\n",
    "    start_total = time.time()\n",
    "\n",
    "    # ✅ Step 1: Scaling\n",
    "    start_scaling = time.time()\n",
    "    scaled_image = np.clip(np.nan_to_num(image * scale_factor, nan=0, posinf=scale_factor, neginf=0).astype(int), min_value, max_value)\n",
    "    scaling_time = time.time() - start_scaling\n",
    "\n",
    "    # ✅ Step 2: OPE Encryption\n",
    "    start_encryption = time.time()\n",
    "    encrypted_image = [ope_key.encrypt(int(pixel)) for pixel in scaled_image]\n",
    "    encryption_time = time.time() - start_encryption\n",
    "\n",
    "    total_time = time.time() - start_total\n",
    "\n",
    "    # ✅ Debugging: Print Time Taken\n",
    "    print(f\"Image Encryption Time: {total_time:.4f} sec | Scaling: {scaling_time:.4f} sec | OPE: {encryption_time:.4f} sec\")\n",
    "\n",
    "    return encrypted_image"
   ]
  },
  {
   "cell_type": "code",
   "execution_count": 110,
   "metadata": {
    "id": "rjOEgJxvw23z"
   },
   "outputs": [],
   "source": [
    "# ✅ Optimized Function to Encrypt the Entire Dataset\n",
    "def encrypt_dataset(X, ope_key, scale_factor=1e6):\n",
    "    scaled_X = np.clip(np.nan_to_num(X * scale_factor, nan=0, posinf=scale_factor, neginf=0).astype(int), min_value, max_value)\n",
    "    encrypted_X = [encrypt_image(image, ope_key) for image in scaled_X]\n",
    "    return np.array(encrypted_X)"
   ]
  },
  {
   "cell_type": "code",
   "execution_count": 111,
   "metadata": {
    "colab": {
     "base_uri": "https://localhost:8080/"
    },
    "id": "TZzAudfSw44T",
    "outputId": "acb2ed29-d7e8-4287-9236-e80712c372c4"
   },
   "outputs": [
    {
     "name": "stdout",
     "output_type": "stream",
     "text": [
      "Encrypting Test Dataset...\n",
      "Image Encryption Time: 5.3880 sec | Scaling: 0.0000 sec | OPE: 5.3880 sec\n",
      "Image Encryption Time: 5.2631 sec | Scaling: 0.0000 sec | OPE: 5.2631 sec\n",
      "Image Encryption Time: 5.3461 sec | Scaling: 0.0008 sec | OPE: 5.3454 sec\n",
      "Image Encryption Time: 5.3241 sec | Scaling: 0.0000 sec | OPE: 5.3241 sec\n",
      "Image Encryption Time: 5.2973 sec | Scaling: 0.0000 sec | OPE: 5.2973 sec\n",
      "Image Encryption Time: 5.3547 sec | Scaling: 0.0000 sec | OPE: 5.3547 sec\n",
      "Image Encryption Time: 5.3354 sec | Scaling: 0.0011 sec | OPE: 5.3343 sec\n",
      "Image Encryption Time: 5.3901 sec | Scaling: 0.0000 sec | OPE: 5.3901 sec\n",
      "Image Encryption Time: 5.2606 sec | Scaling: 0.0010 sec | OPE: 5.2596 sec\n",
      "Image Encryption Time: 5.4308 sec | Scaling: 0.0000 sec | OPE: 5.4308 sec\n",
      "Image Encryption Time: 5.4160 sec | Scaling: 0.0000 sec | OPE: 5.4160 sec\n",
      "Image Encryption Time: 5.3239 sec | Scaling: 0.0000 sec | OPE: 5.3239 sec\n",
      "Image Encryption Time: 5.4202 sec | Scaling: 0.0000 sec | OPE: 5.4202 sec\n",
      "Image Encryption Time: 5.3665 sec | Scaling: 0.0000 sec | OPE: 5.3665 sec\n",
      "Image Encryption Time: 5.3556 sec | Scaling: 0.0000 sec | OPE: 5.3556 sec\n",
      "Image Encryption Time: 5.3703 sec | Scaling: 0.0000 sec | OPE: 5.3703 sec\n",
      "Image Encryption Time: 5.3749 sec | Scaling: 0.0046 sec | OPE: 5.3703 sec\n",
      "Image Encryption Time: 5.3118 sec | Scaling: 0.0011 sec | OPE: 5.3107 sec\n",
      "Image Encryption Time: 5.3051 sec | Scaling: 0.0000 sec | OPE: 5.3051 sec\n",
      "Image Encryption Time: 5.3515 sec | Scaling: 0.0000 sec | OPE: 5.3515 sec\n",
      "Image Encryption Time: 5.2883 sec | Scaling: 0.0000 sec | OPE: 5.2883 sec\n",
      "Image Encryption Time: 5.3844 sec | Scaling: 0.0011 sec | OPE: 5.3833 sec\n",
      "Image Encryption Time: 5.3491 sec | Scaling: 0.0010 sec | OPE: 5.3481 sec\n",
      "Image Encryption Time: 5.3480 sec | Scaling: 0.0000 sec | OPE: 5.3480 sec\n",
      "Image Encryption Time: 5.3251 sec | Scaling: 0.0010 sec | OPE: 5.3240 sec\n",
      "Image Encryption Time: 5.3194 sec | Scaling: 0.0013 sec | OPE: 5.3181 sec\n",
      "Image Encryption Time: 5.3514 sec | Scaling: 0.0000 sec | OPE: 5.3514 sec\n",
      "Image Encryption Time: 5.2674 sec | Scaling: 0.0000 sec | OPE: 5.2674 sec\n",
      "Image Encryption Time: 5.4137 sec | Scaling: 0.0000 sec | OPE: 5.4137 sec\n",
      "Image Encryption Time: 5.3604 sec | Scaling: 0.0000 sec | OPE: 5.3604 sec\n",
      "Image Encryption Time: 5.4495 sec | Scaling: 0.0000 sec | OPE: 5.4495 sec\n",
      "Image Encryption Time: 5.4111 sec | Scaling: 0.0000 sec | OPE: 5.4111 sec\n",
      "Image Encryption Time: 5.4002 sec | Scaling: 0.0000 sec | OPE: 5.4002 sec\n",
      "Image Encryption Time: 5.4010 sec | Scaling: 0.0000 sec | OPE: 5.4010 sec\n",
      "Image Encryption Time: 5.4473 sec | Scaling: 0.0000 sec | OPE: 5.4473 sec\n",
      "Image Encryption Time: 5.2816 sec | Scaling: 0.0000 sec | OPE: 5.2816 sec\n",
      "Image Encryption Time: 5.3738 sec | Scaling: 0.0000 sec | OPE: 5.3738 sec\n",
      "Image Encryption Time: 5.2863 sec | Scaling: 0.0000 sec | OPE: 5.2863 sec\n",
      "Image Encryption Time: 5.3130 sec | Scaling: 0.0010 sec | OPE: 5.3120 sec\n",
      "Image Encryption Time: 5.4147 sec | Scaling: 0.0010 sec | OPE: 5.4137 sec\n",
      "Image Encryption Time: 5.4193 sec | Scaling: 0.0000 sec | OPE: 5.4193 sec\n",
      "Image Encryption Time: 5.3859 sec | Scaling: 0.0000 sec | OPE: 5.3859 sec\n",
      "Image Encryption Time: 5.3590 sec | Scaling: 0.0000 sec | OPE: 5.3590 sec\n",
      "Image Encryption Time: 5.3986 sec | Scaling: 0.0000 sec | OPE: 5.3986 sec\n",
      "Image Encryption Time: 5.3435 sec | Scaling: 0.0000 sec | OPE: 5.3435 sec\n",
      "Image Encryption Time: 5.3493 sec | Scaling: 0.0000 sec | OPE: 5.3493 sec\n",
      "Image Encryption Time: 5.3013 sec | Scaling: 0.0000 sec | OPE: 5.3013 sec\n",
      "Image Encryption Time: 5.3545 sec | Scaling: 0.0010 sec | OPE: 5.3535 sec\n",
      "Image Encryption Time: 5.2948 sec | Scaling: 0.0000 sec | OPE: 5.2948 sec\n",
      "Image Encryption Time: 5.2816 sec | Scaling: 0.0010 sec | OPE: 5.2806 sec\n",
      "Image Encryption Time: 5.3723 sec | Scaling: 0.0055 sec | OPE: 5.3668 sec\n",
      "Image Encryption Time: 5.3197 sec | Scaling: 0.0015 sec | OPE: 5.3181 sec\n",
      "Image Encryption Time: 5.2215 sec | Scaling: 0.0012 sec | OPE: 5.2203 sec\n",
      "Image Encryption Time: 5.3120 sec | Scaling: 0.0000 sec | OPE: 5.3120 sec\n",
      "Image Encryption Time: 5.3708 sec | Scaling: 0.0000 sec | OPE: 5.3708 sec\n",
      "Image Encryption Time: 5.3950 sec | Scaling: 0.0000 sec | OPE: 5.3950 sec\n",
      "Image Encryption Time: 5.3321 sec | Scaling: 0.0010 sec | OPE: 5.3310 sec\n",
      "Image Encryption Time: 5.4078 sec | Scaling: 0.0010 sec | OPE: 5.4068 sec\n",
      "Image Encryption Time: 5.3568 sec | Scaling: 0.0000 sec | OPE: 5.3568 sec\n",
      "Image Encryption Time: 5.3313 sec | Scaling: 0.0000 sec | OPE: 5.3313 sec\n",
      "Image Encryption Time: 5.3101 sec | Scaling: 0.0000 sec | OPE: 5.3101 sec\n",
      "Image Encryption Time: 5.3651 sec | Scaling: 0.0000 sec | OPE: 5.3651 sec\n",
      "Image Encryption Time: 5.3682 sec | Scaling: 0.0010 sec | OPE: 5.3673 sec\n",
      "Image Encryption Time: 5.3645 sec | Scaling: 0.0000 sec | OPE: 5.3645 sec\n",
      "Image Encryption Time: 5.4019 sec | Scaling: 0.0000 sec | OPE: 5.4019 sec\n",
      "Image Encryption Time: 5.4011 sec | Scaling: 0.0000 sec | OPE: 5.4011 sec\n",
      "Image Encryption Time: 5.3997 sec | Scaling: 0.0000 sec | OPE: 5.3997 sec\n",
      "Image Encryption Time: 5.3810 sec | Scaling: 0.0000 sec | OPE: 5.3810 sec\n",
      "Image Encryption Time: 5.4287 sec | Scaling: 0.0013 sec | OPE: 5.4275 sec\n",
      "Image Encryption Time: 5.4102 sec | Scaling: 0.0000 sec | OPE: 5.4102 sec\n",
      "Image Encryption Time: 5.3344 sec | Scaling: 0.0000 sec | OPE: 5.3344 sec\n",
      "Image Encryption Time: 5.3570 sec | Scaling: 0.0016 sec | OPE: 5.3554 sec\n",
      "Image Encryption Time: 5.3299 sec | Scaling: 0.0010 sec | OPE: 5.3290 sec\n",
      "Image Encryption Time: 5.3956 sec | Scaling: 0.0000 sec | OPE: 5.3956 sec\n",
      "Image Encryption Time: 5.3739 sec | Scaling: 0.0000 sec | OPE: 5.3739 sec\n",
      "Image Encryption Time: 5.3798 sec | Scaling: 0.0000 sec | OPE: 5.3798 sec\n",
      "Image Encryption Time: 5.3922 sec | Scaling: 0.0000 sec | OPE: 5.3922 sec\n",
      "Image Encryption Time: 5.3733 sec | Scaling: 0.0010 sec | OPE: 5.3723 sec\n",
      "Image Encryption Time: 5.3634 sec | Scaling: 0.0000 sec | OPE: 5.3634 sec\n",
      "Image Encryption Time: 5.2844 sec | Scaling: 0.0010 sec | OPE: 5.2834 sec\n",
      "Image Encryption Time: 5.3772 sec | Scaling: 0.0000 sec | OPE: 5.3772 sec\n",
      "Image Encryption Time: 5.3503 sec | Scaling: 0.0010 sec | OPE: 5.3493 sec\n",
      "Image Encryption Time: 5.3024 sec | Scaling: 0.0010 sec | OPE: 5.3014 sec\n",
      "Image Encryption Time: 5.4084 sec | Scaling: 0.0010 sec | OPE: 5.4074 sec\n",
      "Image Encryption Time: 5.2781 sec | Scaling: 0.0000 sec | OPE: 5.2781 sec\n",
      "Image Encryption Time: 5.3145 sec | Scaling: 0.0000 sec | OPE: 5.3145 sec\n",
      "Image Encryption Time: 5.3749 sec | Scaling: 0.0000 sec | OPE: 5.3749 sec\n",
      "Image Encryption Time: 5.4588 sec | Scaling: 0.0000 sec | OPE: 5.4588 sec\n",
      "Image Encryption Time: 5.3631 sec | Scaling: 0.0010 sec | OPE: 5.3621 sec\n",
      "Image Encryption Time: 5.4085 sec | Scaling: 0.0010 sec | OPE: 5.4075 sec\n",
      "Image Encryption Time: 5.3774 sec | Scaling: 0.0000 sec | OPE: 5.3774 sec\n",
      "Image Encryption Time: 5.3526 sec | Scaling: 0.0000 sec | OPE: 5.3526 sec\n",
      "Image Encryption Time: 5.3721 sec | Scaling: 0.0000 sec | OPE: 5.3721 sec\n",
      "Image Encryption Time: 5.3729 sec | Scaling: 0.0010 sec | OPE: 5.3719 sec\n",
      "Image Encryption Time: 5.3533 sec | Scaling: 0.0000 sec | OPE: 5.3533 sec\n",
      "Image Encryption Time: 5.3634 sec | Scaling: 0.0000 sec | OPE: 5.3634 sec\n",
      "Image Encryption Time: 5.4004 sec | Scaling: 0.0000 sec | OPE: 5.4004 sec\n",
      "Image Encryption Time: 5.3810 sec | Scaling: 0.0020 sec | OPE: 5.3790 sec\n",
      "Image Encryption Time: 5.3092 sec | Scaling: 0.0000 sec | OPE: 5.3092 sec\n",
      "Image Encryption Time: 5.2748 sec | Scaling: 0.0000 sec | OPE: 5.2748 sec\n",
      "Dataset Encryption Time: 535.7405 seconds\n"
     ]
    }
   ],
   "source": [
    "start_dataset_encryption_time = time.perf_counter()\n",
    "print(\"Encrypting Test Dataset...\")\n",
    "X_test_encrypted = encrypt_dataset(X_test[:num_samples], ope_key)\n",
    "end_dataset_encryption_time = time.perf_counter()  # Use the same function\n",
    "dataset_encryption_time = end_dataset_encryption_time - start_dataset_encryption_time\n",
    "print(f\"Dataset Encryption Time: {dataset_encryption_time:.4f} seconds\")"
   ]
  },
  {
   "cell_type": "code",
   "execution_count": 112,
   "metadata": {
    "id": "wA57nthaw67U"
   },
   "outputs": [],
   "source": [
    "# ✅ Function to Perform Secure Classification\n",
    "def secure_classify(model, encrypted_X, encrypted_thresholds, encrypted_leaf_values, aes_key):\n",
    "    votes = []\n",
    "    for tree in model.estimators_:\n",
    "        node = 0\n",
    "\n",
    "        while tree.tree_.feature[node] != -2:\n",
    "            feature_idx = tree.tree_.feature[node]\n",
    "            encrypted_threshold = encrypted_thresholds[node]\n",
    "\n",
    "            if encrypted_X[feature_idx] < encrypted_threshold:\n",
    "                node = tree.tree_.children_left[node]\n",
    "            else:\n",
    "                node = tree.tree_.children_right[node]\n",
    "\n",
    "        encrypted_value = encrypted_leaf_values[node]\n",
    "        decrypted_value = aes_decrypt_fast(encrypted_value, aes_key)\n",
    "        votes.append(int(decrypted_value))\n",
    "\n",
    "    return Counter(votes).most_common(1)[0][0]"
   ]
  },
  {
   "cell_type": "code",
   "execution_count": 113,
   "metadata": {
    "id": "YkRPc_oYw8PM"
   },
   "outputs": [],
   "source": [
    "# ✅ Function to Perform Secure Classification on All Test Images\n",
    "def secure_classify_dataset(model, X_encrypted, encrypted_thresholds, encrypted_leaf_values, aes_key):\n",
    "    return np.array([secure_classify(model, encrypted_X, encrypted_thresholds, encrypted_leaf_values, aes_key) for encrypted_X in X_encrypted])\n"
   ]
  },
  {
   "cell_type": "code",
   "execution_count": 114,
   "metadata": {
    "colab": {
     "base_uri": "https://localhost:8080/"
    },
    "id": "qRupchSvw8jj",
    "outputId": "c9fdd4d2-2eb3-4dd9-ce1c-1955ffcf6bc8"
   },
   "outputs": [
    {
     "name": "stdout",
     "output_type": "stream",
     "text": [
      "Performing Secure Classification...\n",
      "Secure Classification Time: 0.6075 seconds\n"
     ]
    }
   ],
   "source": [
    "# ✅ Measure time taken for classification\n",
    "start_time = time.time()\n",
    "print(\"Performing Secure Classification...\")\n",
    "y_pred_encrypted = secure_classify_dataset(clf_ope, X_test_encrypted, encrypted_thresholds, encrypted_leaf_values, aes_key)\n",
    "classification_time = time.time() - start_time\n",
    "print(f\"Secure Classification Time: {classification_time:.4f} seconds\")\n"
   ]
  },
  {
   "cell_type": "code",
   "execution_count": 115,
   "metadata": {
    "colab": {
     "base_uri": "https://localhost:8080/"
    },
    "id": "RQ2Ajbr7w_qz",
    "outputId": "012351fe-a49f-4f1b-e61c-0e16b60e99bd"
   },
   "outputs": [
    {
     "name": "stdout",
     "output_type": "stream",
     "text": [
      "Secure Random Forest Accuracy on Encrypted MNIST: 0.1800\n"
     ]
    }
   ],
   "source": [
    "# ✅ Compute Accuracy of Secure Inference\n",
    "secure_accuracy = accuracy_score(y_test [:num_samples], y_pred_encrypted)\n",
    "\n",
    "# ✅ Print Secure Classification Results\n",
    "print(f\"Secure Random Forest Accuracy on Encrypted MNIST: {secure_accuracy:.4f}\")"
   ]
  },
  {
   "cell_type": "code",
   "execution_count": 116,
   "metadata": {},
   "outputs": [
    {
     "name": "stdout",
     "output_type": "stream",
     "text": [
      "Classifying the first image...\n",
      "Image Encryption Time: 5.3590 sec | Scaling: 0.0000 sec | OPE: 5.3590 sec\n",
      "Prediction for the first image: 1\n",
      "Time taken for classification: 5.3672 seconds\n"
     ]
    }
   ],
   "source": [
    "# Measure time taken for classifying the first image\n",
    "start_time = time.time()\n",
    "print(\"Classifying the first image...\")\n",
    "\n",
    "# Encrypt the first image\n",
    "first_image_encrypted = encrypt_image(X_test[0], ope_key)\n",
    "\n",
    "# Perform secure classification\n",
    "first_image_prediction = secure_classify(clf_ope, first_image_encrypted, encrypted_thresholds, encrypted_leaf_values, aes_key)\n",
    "\n",
    "classification_time = time.time() - start_time\n",
    "print(f\"Prediction for the first image: {first_image_prediction}\")\n",
    "print(f\"Time taken for classification: {classification_time:.4f} seconds\")"
   ]
  },
  {
   "cell_type": "code",
   "execution_count": 117,
   "id": "15136f85",
   "metadata": {},
   "outputs": [
    {
     "name": "stdout",
     "output_type": "stream",
     "text": [
      "\n",
      "===== Execution Time Summary =====\n",
      "📌 Total Execution Time: 977.0845 seconds\n",
      "📌 Dataset Encryption Time: 535.7405 seconds (54.83%)\n",
      "📌 Random Forest Training Time: 0.8580 seconds (0.09%)\n",
      "📌 Threshold Encryption Time: 19.5499 seconds (2.00%)\n",
      "📌 Secure Classification Time: 5.3672 seconds (0.55%)\n",
      "📌 OPE Encryption Time: 403.5344 seconds (41.30%)\n",
      "📌 MNIST Load Time: 7.7987 seconds (0.80%)\n",
      "📌 Secure Random Forest Accuracy on Encrypted MNIST: 0.1800\n",
      "📌 Number of Decision Trees (num_samples): 100\n",
      "📌 Number of Images Used for Training: 100\n"
     ]
    }
   ],
   "source": [
    "\n",
    "# Ensure all timer variables are defined to avoid NameError\n",
    "if 'start_threshold_encryption_time' not in globals():\n",
    "    start_threshold_encryption_time = end_threshold_encryption_time = time.perf_counter()\n",
    "\n",
    "if 'start_label_encryption_time' not in globals():\n",
    "    start_label_encryption_time = end_label_encryption_time = time.perf_counter()\n",
    "\n",
    "if 'start_dataset_encryption_time' not in globals():\n",
    "    start_dataset_encryption_time = end_dataset_encryption_time = time.perf_counter()\n",
    "\n",
    "if 'start_rf_training_time' not in globals():\n",
    "    start_rf_training_time = end_rf_training_time = time.perf_counter()\n",
    "\n",
    "end_total_time = time.perf_counter()  # End total execution time\n",
    "\n",
    "print(\"\\n===== Execution Time Summary =====\")\n",
    "total_time = end_total_time - start_total_time\n",
    "dataset_encryption_time = end_dataset_encryption_time - start_dataset_encryption_time\n",
    "rf_training_time = end_rf_training_time - start_rf_training_time\n",
    "threshold_encryption_time = end_threshold_encryption_time - start_threshold_encryption_time\n",
    "\n",
    "total_percentage = 100\n",
    "dataset_encryption_percentage = (dataset_encryption_time / total_time) * 100\n",
    "rf_training_percentage = (rf_training_time / total_time) * 100\n",
    "threshold_encryption_percentage = (threshold_encryption_time / total_time) * 100\n",
    "classification_percentage = (classification_time / total_time) * 100\n",
    "ope_encryption_percentage = (ope_encryption_time / total_time) * 100\n",
    "mnist_load_percentage = (mnist_load_time / total_time) * 100\n",
    "\n",
    "print(f\"📌 Total Execution Time: {total_time:.4f} seconds\")\n",
    "print(f\"📌 Dataset Encryption Time: {end_dataset_encryption_time - start_dataset_encryption_time:.4f} seconds ({dataset_encryption_percentage:.2f}%)\")\n",
    "print(f\"📌 Random Forest Training Time: {end_rf_training_time - start_rf_training_time:.4f} seconds ({rf_training_percentage:.2f}%)\")\n",
    "print(f\"📌 Threshold Encryption Time: {end_threshold_encryption_time - start_threshold_encryption_time:.4f} seconds ({threshold_encryption_percentage:.2f}%)\")\n",
    "print(f\"📌 Secure Classification Time: {classification_time:.4f} seconds ({classification_percentage:.2f}%)\")\n",
    "print(f\"📌 OPE Encryption Time: {ope_encryption_time:.4f} seconds ({ope_encryption_percentage:.2f}%)\")\n",
    "print(f\"📌 MNIST Load Time: {mnist_load_time:.4f} seconds ({mnist_load_percentage:.2f}%)\")\n",
    "print(f\"📌 Secure Random Forest Accuracy on Encrypted MNIST: {secure_accuracy:.4f}\")\n",
    "print(f\"📌 Number of Decision Trees (num_samples): {num_estimators}\")\n",
    "print(f\"📌 Number of Images Used for Training: {num_samples}\")\n",
    "\n"
   ]
  }
 ],
 "metadata": {
  "colab": {
   "provenance": []
  },
  "kernelspec": {
   "display_name": "Smash-8bP4Z9Dl",
   "language": "python",
   "name": "python3"
  },
  "language_info": {
   "codemirror_mode": {
    "name": "ipython",
    "version": 3
   },
   "file_extension": ".py",
   "mimetype": "text/x-python",
   "name": "python",
   "nbconvert_exporter": "python",
   "pygments_lexer": "ipython3",
   "version": "3.11.9"
  }
 },
 "nbformat": 4,
 "nbformat_minor": 0
}
