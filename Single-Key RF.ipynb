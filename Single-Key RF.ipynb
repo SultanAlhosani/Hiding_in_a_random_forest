{
 "cells": [
  {
   "cell_type": "code",
   "execution_count": 64,
   "metadata": {
    "id": "Nufom7uIwVHg"
   },
   "outputs": [],
   "source": [
    "import time\n",
    "import numpy as np\n",
    "from collections import Counter\n",
    "from sklearn.ensemble import RandomForestClassifier\n",
    "from sklearn.model_selection import train_test_split\n",
    "from sklearn.metrics import accuracy_score\n",
    "from sklearn.datasets import fetch_openml\n",
    "from pyope.ope import OPE, ValueRange\n",
    "from cryptography.hazmat.primitives.ciphers import Cipher, algorithms, modes\n",
    "from cryptography.hazmat.backends import default_backend\n",
    "import os"
   ]
  },
  {
   "cell_type": "code",
   "execution_count": 65,
   "metadata": {
    "id": "rqpWk1vqwQJP"
   },
   "outputs": [],
   "source": [
    "# ✅ AES Encryption Setup\n",
    "aes_key = os.urandom(32)  # Use this key for encryption/decryption\n",
    "\n",
    "# ✅ AES Encrypt Function (Fast Mode - ECB)\n",
    "def aes_encrypt_fast(data, key):\n",
    "    cipher = Cipher(algorithms.AES(key), modes.ECB(), backend=default_backend())\n",
    "    encryptor = cipher.encryptor()\n",
    "    padded_data = data.ljust(16)\n",
    "    ciphertext = encryptor.update(padded_data.encode()) + encryptor.finalize()\n",
    "    return ciphertext\n",
    "\n",
    "# ✅ AES Decrypt Function (Fast Mode - ECB)\n",
    "def aes_decrypt_fast(ciphertext, key):\n",
    "    cipher = Cipher(algorithms.AES(key), modes.ECB(), backend=default_backend())\n",
    "    decryptor = cipher.decryptor()\n",
    "    return decryptor.update(ciphertext).decode().strip()"
   ]
  },
  {
   "cell_type": "code",
   "execution_count": 66,
   "metadata": {
    "id": "DgT_L9KOwZoo"
   },
   "outputs": [],
   "source": [
    "# ✅ Load MNIST dataset\n",
    "mnist = fetch_openml(\"mnist_784\", version=1, as_frame=False)\n",
    "X, y = mnist.data, mnist.target.astype(int)"
   ]
  },
  {
   "cell_type": "code",
   "execution_count": null,
   "metadata": {
    "id": "0Esz4GuZwcUJ"
   },
   "outputs": [
    {
     "name": "stdout",
     "output_type": "stream",
     "text": [
      "OPE Encryption Done!\n",
      "X_train_encrypted shape: (10, 784)\n",
      "X_test_encrypted shape: (10, 784)\n"
     ]
    }
   ],
   "source": [
    "# ✅ Split dataset\n",
    "X_train, X_test, y_train, y_test = train_test_split(X, y, test_size=0.2, random_state=42)\n",
    "# Define OPE Encryption Scheme\n",
    "ope_key = b'some_secure_key'\n",
    "ope = OPE(ope_key, ValueRange(0, 255), ValueRange(0, 2**32))\n",
    "\n",
    "def encrypt_dataset_with_ope(X):\n",
    "    \"\"\"Encrypt dataset using OPE for each feature.\"\"\"\n",
    "    return np.array([[ope.encrypt(int(val)) for val in sample] for sample in X])\n",
    "\n",
    "num_samples = 20\n",
    "\n",
    "# ✅ Encrypt Training & Test Data Using OPE\n",
    "# Train on a single element\n",
    "X_train_encrypted = encrypt_dataset_with_ope(X_train[:num_samples])\n",
    "X_test_encrypted = encrypt_dataset_with_ope(X_test[:num_samples])\n",
    "\n",
    "print(\"OPE Encryption Done!\")\n",
    "print(\"X_train_encrypted shape:\", X_train_encrypted.shape)\n",
    "print(\"X_test_encrypted shape:\", X_test_encrypted.shape)\n"
   ]
  },
  {
   "cell_type": "code",
   "execution_count": 68,
   "metadata": {
    "id": "6rb2jlPxwfZH"
   },
   "outputs": [],
   "source": [
    "\n",
    "# ✅ Normalize and Clip pixel values (Ensure they are integers for OPE)\n",
    "scale_factor = 255  # Convert [0,1] range to [0,255]\n",
    "X_train_scaled = np.clip((X_train * scale_factor), 0, 255).astype(int)\n",
    "X_test_scaled = np.clip((X_test * scale_factor), 0, 255).astype(int)\n"
   ]
  },
  {
   "cell_type": "code",
   "execution_count": 69,
   "metadata": {
    "colab": {
     "base_uri": "https://localhost:8080/",
     "height": 80
    },
    "id": "swYxFETGwgyq",
    "outputId": "720d7719-65e7-4d17-d825-d77fbed20965"
   },
   "outputs": [
    {
     "name": "stdout",
     "output_type": "stream",
     "text": [
      "Secure Random Forest Accuracy (OPE Encrypted Data): 0.2000\n"
     ]
    }
   ],
   "source": [
    "\n",
    "# ✅ Train RF Model on OPE-Encrypted Data\n",
    "clf_ope = RandomForestClassifier(n_estimators=100, random_state=42)\n",
    "clf_ope.fit(X_train_encrypted[:num_samples], y_train[:num_samples])  # Train on encrypted dataset\n",
    "\n",
    "# ✅ Make Predictions on Encrypted Test Set\n",
    "y_pred_encrypted = clf_ope.predict(X_test_encrypted)\n",
    "\n",
    "# ✅ Compute Accuracy\n",
    "secure_accuracy = accuracy_score(y_test[:num_samples], y_pred_encrypted)\n",
    "print(f\"Secure Random Forest Accuracy (OPE Encrypted Data): {secure_accuracy:.4f}\")\n"
   ]
  },
  {
   "cell_type": "code",
   "execution_count": 70,
   "metadata": {
    "id": "36SAnQ7PwlkQ"
   },
   "outputs": [],
   "source": [
    "# ✅ Encrypt Labels using Faster AES-ECB\n",
    "encrypted_labels = {label: aes_encrypt_fast(str(label), aes_key) for label in np.unique(y_train)}"
   ]
  },
  {
   "cell_type": "code",
   "execution_count": 71,
   "metadata": {
    "id": "Flawe0qAwo45"
   },
   "outputs": [],
   "source": [
    "# ✅ Extract & Encrypt Thresholds using OPE\n",
    "thresholds = []\n",
    "for tree in clf_ope.estimators_:\n",
    "    tree_thresholds = tree.tree_.threshold\n",
    "    valid_thresholds = tree_thresholds[tree_thresholds != -2]\n",
    "    thresholds.extend(valid_thresholds)\n",
    "\n",
    "thresholds = np.array(thresholds)\n",
    "scale_factor = 1e6"
   ]
  },
  {
   "cell_type": "code",
   "execution_count": 72,
   "metadata": {
    "id": "CuSv8ZBxwrYy"
   },
   "outputs": [],
   "source": [
    "# ✅ Compute min/max for scaled pixel values\n",
    "scaled_pixels = np.clip(np.nan_to_num(X_train * scale_factor, nan=0, posinf=scale_factor, neginf=0).astype(int), -1e9, 1e9)\n",
    "scaled_thresholds = np.clip(np.nan_to_num(thresholds * scale_factor, nan=0, posinf=scale_factor, neginf=0).astype(int), -1e9, 1e9)\n",
    "\n",
    "min_value = int(min(scaled_pixels.min(), scaled_thresholds.min()) * 0.99)\n",
    "max_value = int(max(scaled_pixels.max(), scaled_thresholds.max()) * 1.01)"
   ]
  },
  {
   "cell_type": "code",
   "execution_count": 73,
   "metadata": {
    "id": "blICKn8_wrs7"
   },
   "outputs": [],
   "source": [
    "# ✅ Define OPE Ranges\n",
    "DEFAULT_OUT_RANGE_START, DEFAULT_OUT_RANGE_END = 0, 2**31 - 1\n",
    "in_range = ValueRange(min_value, max_value)\n",
    "out_range = ValueRange(DEFAULT_OUT_RANGE_START, DEFAULT_OUT_RANGE_END)"
   ]
  },
  {
   "cell_type": "code",
   "execution_count": 74,
   "metadata": {
    "id": "HOfyaU2twvfi"
   },
   "outputs": [],
   "source": [
    "# ✅ Initialize OPE for thresholds and features\n",
    "ope_key = OPE(b'some_secure_key', in_range, out_range)"
   ]
  },
  {
   "cell_type": "code",
   "execution_count": 75,
   "metadata": {
    "id": "MnsdKfxtwxbC"
   },
   "outputs": [],
   "source": [
    "# ✅ Encrypt Thresholds with OPE\n",
    "encrypted_thresholds = np.array([ope_key.encrypt(int(th)) for th in scaled_thresholds])"
   ]
  },
  {
   "cell_type": "code",
   "execution_count": 76,
   "metadata": {
    "id": "GagdUU2dwy9b"
   },
   "outputs": [],
   "source": [
    "# ✅ Encrypt Decision Tree Leaf Values using AES-ECB\n",
    "encrypted_leaf_values = {\n",
    "    node: aes_encrypt_fast(str(tree.tree_.value[node].argmax()), aes_key)\n",
    "    for tree in clf_ope.estimators_\n",
    "    for node in range(tree.tree_.node_count) if tree.tree_.feature[node] == -2\n",
    "}"
   ]
  },
  {
   "cell_type": "code",
   "execution_count": 77,
   "metadata": {
    "id": "MADHZ3Lnw0JM"
   },
   "outputs": [],
   "source": [
    "# ✅ Optimized Function to Encrypt an Image with OPE\n",
    "def encrypt_image(image, ope_key, scale_factor=1e6):\n",
    "    \"\"\"Encrypt an image using OPE, ensuring valid integer input.\"\"\"\n",
    "    start_total = time.time()\n",
    "\n",
    "    # ✅ Step 1: Scaling\n",
    "    start_scaling = time.time()\n",
    "    scaled_image = np.clip(np.nan_to_num(image * scale_factor, nan=0, posinf=scale_factor, neginf=0).astype(int), min_value, max_value)\n",
    "    scaling_time = time.time() - start_scaling\n",
    "\n",
    "    # ✅ Step 2: OPE Encryption\n",
    "    start_encryption = time.time()\n",
    "    encrypted_image = [ope_key.encrypt(int(pixel)) for pixel in scaled_image]\n",
    "    encryption_time = time.time() - start_encryption\n",
    "\n",
    "    total_time = time.time() - start_total\n",
    "\n",
    "    # ✅ Debugging: Print Time Taken\n",
    "    print(f\"Image Encryption Time: {total_time:.4f} sec | Scaling: {scaling_time:.4f} sec | OPE: {encryption_time:.4f} sec\")\n",
    "\n",
    "    return encrypted_image"
   ]
  },
  {
   "cell_type": "code",
   "execution_count": 78,
   "metadata": {
    "id": "rjOEgJxvw23z"
   },
   "outputs": [],
   "source": [
    "# ✅ Optimized Function to Encrypt the Entire Dataset\n",
    "def encrypt_dataset(X, ope_key, scale_factor=1e6):\n",
    "    scaled_X = np.clip(np.nan_to_num(X * scale_factor, nan=0, posinf=scale_factor, neginf=0).astype(int), min_value, max_value)\n",
    "    encrypted_X = [encrypt_image(image, ope_key) for image in scaled_X]\n",
    "    return np.array(encrypted_X)"
   ]
  },
  {
   "cell_type": "code",
   "execution_count": 79,
   "metadata": {
    "colab": {
     "base_uri": "https://localhost:8080/"
    },
    "id": "TZzAudfSw44T",
    "outputId": "acb2ed29-d7e8-4287-9236-e80712c372c4"
   },
   "outputs": [
    {
     "name": "stdout",
     "output_type": "stream",
     "text": [
      "Encrypting Test Dataset...\n",
      "Image Encryption Time: 5.3644 sec | Scaling: 0.0000 sec | OPE: 5.3644 sec\n",
      "Image Encryption Time: 5.5159 sec | Scaling: 0.0016 sec | OPE: 5.5143 sec\n",
      "Image Encryption Time: 5.2120 sec | Scaling: 0.0000 sec | OPE: 5.2120 sec\n",
      "Image Encryption Time: 5.2532 sec | Scaling: 0.0000 sec | OPE: 5.2532 sec\n",
      "Image Encryption Time: 5.2978 sec | Scaling: 0.0000 sec | OPE: 5.2978 sec\n",
      "Image Encryption Time: 5.3815 sec | Scaling: 0.0000 sec | OPE: 5.3815 sec\n",
      "Image Encryption Time: 5.3084 sec | Scaling: 0.0000 sec | OPE: 5.3084 sec\n",
      "Image Encryption Time: 5.3236 sec | Scaling: 0.0000 sec | OPE: 5.3236 sec\n",
      "Image Encryption Time: 5.2297 sec | Scaling: 0.0000 sec | OPE: 5.2297 sec\n",
      "Image Encryption Time: 5.3978 sec | Scaling: 0.0010 sec | OPE: 5.3968 sec\n",
      "Optimized Dataset Encryption Time: 53.2874 seconds\n"
     ]
    }
   ],
   "source": [
    "# ✅ Measure time taken for dataset encryption\n",
    "start_time = time.time()\n",
    "print(\"Encrypting Test Dataset...\")\n",
    "X_test_encrypted = encrypt_dataset(X_test[:num_samples], ope_key)\n",
    "encryption_time = time.time() - start_time\n",
    "print(f\"Optimized Dataset Encryption Time: {encryption_time:.4f} seconds\")"
   ]
  },
  {
   "cell_type": "code",
   "execution_count": 80,
   "metadata": {
    "id": "wA57nthaw67U"
   },
   "outputs": [],
   "source": [
    "# ✅ Function to Perform Secure Classification\n",
    "def secure_classify(model, encrypted_X, encrypted_thresholds, encrypted_leaf_values, aes_key):\n",
    "    votes = []\n",
    "    for tree in model.estimators_:\n",
    "        node = 0\n",
    "\n",
    "        while tree.tree_.feature[node] != -2:\n",
    "            feature_idx = tree.tree_.feature[node]\n",
    "            encrypted_threshold = encrypted_thresholds[node]\n",
    "\n",
    "            if encrypted_X[feature_idx] < encrypted_threshold:\n",
    "                node = tree.tree_.children_left[node]\n",
    "            else:\n",
    "                node = tree.tree_.children_right[node]\n",
    "\n",
    "        encrypted_value = encrypted_leaf_values[node]\n",
    "        decrypted_value = aes_decrypt_fast(encrypted_value, aes_key)\n",
    "        votes.append(int(decrypted_value))\n",
    "\n",
    "    return Counter(votes).most_common(1)[0][0]"
   ]
  },
  {
   "cell_type": "code",
   "execution_count": 81,
   "metadata": {
    "id": "YkRPc_oYw8PM"
   },
   "outputs": [],
   "source": [
    "# ✅ Function to Perform Secure Classification on All Test Images\n",
    "def secure_classify_dataset(model, X_encrypted, encrypted_thresholds, encrypted_leaf_values, aes_key):\n",
    "    return np.array([secure_classify(model, encrypted_X, encrypted_thresholds, encrypted_leaf_values, aes_key) for encrypted_X in X_encrypted])\n"
   ]
  },
  {
   "cell_type": "code",
   "execution_count": 82,
   "metadata": {
    "colab": {
     "base_uri": "https://localhost:8080/"
    },
    "id": "qRupchSvw8jj",
    "outputId": "c9fdd4d2-2eb3-4dd9-ce1c-1955ffcf6bc8"
   },
   "outputs": [
    {
     "name": "stdout",
     "output_type": "stream",
     "text": [
      "Performing Secure Classification...\n",
      "Secure Classification Time: 0.0621 seconds\n"
     ]
    }
   ],
   "source": [
    "# ✅ Measure time taken for classification\n",
    "start_time = time.time()\n",
    "print(\"Performing Secure Classification...\")\n",
    "y_pred_encrypted = secure_classify_dataset(clf_ope, X_test_encrypted, encrypted_thresholds, encrypted_leaf_values, aes_key)\n",
    "classification_time = time.time() - start_time\n",
    "print(f\"Secure Classification Time: {classification_time:.4f} seconds\")\n"
   ]
  },
  {
   "cell_type": "code",
   "execution_count": 83,
   "metadata": {
    "colab": {
     "base_uri": "https://localhost:8080/"
    },
    "id": "RQ2Ajbr7w_qz",
    "outputId": "012351fe-a49f-4f1b-e61c-0e16b60e99bd"
   },
   "outputs": [
    {
     "name": "stdout",
     "output_type": "stream",
     "text": [
      "Secure Random Forest Accuracy on Encrypted MNIST: 0.1000\n"
     ]
    }
   ],
   "source": [
    "# ✅ Compute Accuracy of Secure Inference\n",
    "secure_accuracy = accuracy_score(y_test [:num_samples], y_pred_encrypted)\n",
    "\n",
    "# ✅ Print Secure Classification Results\n",
    "print(f\"Secure Random Forest Accuracy on Encrypted MNIST: {secure_accuracy:.4f}\")"
   ]
  }
 ],
 "metadata": {
  "colab": {
   "provenance": []
  },
  "kernelspec": {
   "display_name": "Smash-8bP4Z9Dl",
   "language": "python",
   "name": "python3"
  },
  "language_info": {
   "codemirror_mode": {
    "name": "ipython",
    "version": 3
   },
   "file_extension": ".py",
   "mimetype": "text/x-python",
   "name": "python",
   "nbconvert_exporter": "python",
   "pygments_lexer": "ipython3",
   "version": "3.11.9"
  }
 },
 "nbformat": 4,
 "nbformat_minor": 0
}
